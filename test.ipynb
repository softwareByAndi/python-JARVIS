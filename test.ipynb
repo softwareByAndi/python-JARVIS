{
 "cells": [
  {
   "cell_type": "code",
   "execution_count": 3,
   "metadata": {},
   "outputs": [
    {
     "name": "stdout",
     "output_type": "stream",
     "text": [
      "amazon poly : 4e-06 : $0.39999999999999997\n",
      "eleven labs : 0.0003 : $29.999999999999996\n",
      "playht : 0.00022 : $22.0\n"
     ]
    }
   ],
   "source": [
    "costs_per_character = {\n",
    "    \"amazon poly\": 4/1000000,\n",
    "    \"eleven labs\": .3/1000,\n",
    "    \"playht\": .22/1000,\n",
    "    \n",
    "}\n",
    "\n",
    "num_characters = 100000\n",
    "\n",
    "for key, value in costs_per_character.items():\n",
    "    print(f\"{key} : {value} : ${value*num_characters}\")"
   ]
  },
  {
   "cell_type": "code",
   "execution_count": 1,
   "metadata": {},
   "outputs": [
    {
     "name": "stdout",
     "output_type": "stream",
     "text": [
      "playing : False\n",
      "info : hello world\n"
     ]
    }
   ],
   "source": [
    "status = {\n",
    "    \"playing\": False,\n",
    "    \"info\": \"hello world\"\n",
    "}\n",
    "\n",
    "for key, value in status.items():\n",
    "    print(f\"{key} : {value}\")"
   ]
  },
  {
   "cell_type": "code",
   "execution_count": null,
   "metadata": {},
   "outputs": [],
   "source": []
  }
 ],
 "metadata": {
  "kernelspec": {
   "display_name": "Python 3",
   "language": "python",
   "name": "python3"
  },
  "language_info": {
   "codemirror_mode": {
    "name": "ipython",
    "version": 3
   },
   "file_extension": ".py",
   "mimetype": "text/x-python",
   "name": "python",
   "nbconvert_exporter": "python",
   "pygments_lexer": "ipython3",
   "version": "3.11.5"
  }
 },
 "nbformat": 4,
 "nbformat_minor": 2
}
